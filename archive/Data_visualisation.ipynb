{
  "nbformat": 4,
  "nbformat_minor": 0,
  "metadata": {
    "colab": {
      "provenance": [],
      "collapsed_sections": []
    },
    "kernelspec": {
      "name": "python3",
      "display_name": "Python 3"
    },
    "language_info": {
      "name": "python"
    }
  },
  "cells": [
    {
      "cell_type": "markdown",
      "source": [
        "The following starter code is available in python. You may code the following functionality in matlab or C/C++. The starter code, however, is available only for python."
      ],
      "metadata": {
        "id": "gAiFIDcgttDO"
      }
    },
    {
      "cell_type": "markdown",
      "source": [
        "# Total Points = 50\n",
        "\n",
        "25 code/ comment blocks to be completed\n",
        "\n",
        "Each code/ comment block is of 2 points"
      ],
      "metadata": {
        "id": "ExBmAVr0GbEm"
      }
    },
    {
      "cell_type": "markdown",
      "source": [
        "Data Visualisation and Exploratory Data Analysis\n",
        "\n",
        "1. Image Data\n",
        "\n",
        "2. Tabular Data\n",
        "\n",
        "3. Time Series Data"
      ],
      "metadata": {
        "id": "LOupVLU2rmOD"
      }
    },
    {
      "cell_type": "markdown",
      "source": [
        "Import the necessary libraries whenever required\n",
        "\n",
        "Add code to the blocks having the comment 'Add code here'"
      ],
      "metadata": {
        "id": "PvsRRwhAHDhZ"
      }
    },
    {
      "cell_type": "code",
      "source": [
        "import numpy as np\n",
        "import pandas as pd\n",
        "import matplotlib.pyplot as plt\n",
        "import seaborn as sns\n",
        "import warnings\n",
        "warnings.filterwarnings('ignore')"
      ],
      "metadata": {
        "id": "CpfD4LgQ0KBZ"
      },
      "execution_count": 2,
      "outputs": []
    },
    {
      "cell_type": "markdown",
      "source": [
        "#Image Data"
      ],
      "metadata": {
        "id": "t91HX1elrymu"
      }
    },
    {
      "cell_type": "markdown",
      "source": [
        "Load and visualize MNIST dataset (9 code/ comment blocks to be completed)"
      ],
      "metadata": {
        "id": "JSXG7sclr0_z"
      }
    },
    {
      "cell_type": "code",
      "execution_count": 2,
      "metadata": {
        "id": "-4OlOILqrgxf"
      },
      "outputs": [],
      "source": [
        "import tensorflow as tf"
      ]
    },
    {
      "cell_type": "code",
      "source": [
        "(x_train, y_train), (x_test, y_test) = tf.keras.datasets.mnist.load_data()  # split dataset into training and test set while loading it"
      ],
      "metadata": {
        "colab": {
          "base_uri": "https://localhost:8080/"
        },
        "id": "NwYw2Mydr7UG",
        "outputId": "f3af2e92-fa13-488d-fad3-51d57f37b458"
      },
      "execution_count": 3,
      "outputs": [
        {
          "output_type": "stream",
          "name": "stdout",
          "text": [
            "Downloading data from https://storage.googleapis.com/tensorflow/tf-keras-datasets/mnist.npz\n",
            "11493376/11490434 [==============================] - 0s 0us/step\n",
            "11501568/11490434 [==============================] - 0s 0us/step\n"
          ]
        }
      ]
    },
    {
      "cell_type": "code",
      "source": [
        "#  Add code below\n",
        "# print the shape(size) of training and test dataset\n"
      ],
      "metadata": {
        "id": "91o1keYEsumb"
      },
      "execution_count": 4,
      "outputs": []
    },
    {
      "cell_type": "code",
      "source": [
        "# Add code below\n",
        "# print the size (ie, how many pixels) of any one image \n"
      ],
      "metadata": {
        "id": "IhpMplxYs5j7"
      },
      "execution_count": 5,
      "outputs": []
    },
    {
      "cell_type": "code",
      "source": [
        "# Add code below\n",
        "# Display first five training images using imshow function from matplotlib\n"
      ],
      "metadata": {
        "id": "W_CJl6XCtn1z"
      },
      "execution_count": 6,
      "outputs": []
    },
    {
      "cell_type": "code",
      "source": [
        "# Add code below\n",
        "\n",
        "# select one image and display it using imshow function"
      ],
      "metadata": {
        "id": "q9OfEPLstz9N"
      },
      "execution_count": 7,
      "outputs": []
    },
    {
      "cell_type": "code",
      "source": [
        "# Add code below\n",
        "\n",
        "# display the 2-D array corresponding to the above selected image and try to see a pattern in the array"
      ],
      "metadata": {
        "id": "Jb65B1l2uCuR"
      },
      "execution_count": 8,
      "outputs": []
    },
    {
      "cell_type": "code",
      "source": [
        "# Add code below\n",
        "\n",
        "# read x_train and y_train arrays into a dataframe (using pandas): df_x_train. Name the target column as 'label'\n",
        "\n"
      ],
      "metadata": {
        "id": "zrWSBz3JuN89"
      },
      "execution_count": 9,
      "outputs": []
    },
    {
      "cell_type": "code",
      "source": [
        "# Add code below\n",
        "\n",
        "# read x_test and y_test arrays into a dataframe (using pandas): df_x_test"
      ],
      "metadata": {
        "id": "l0tyw5WsxOPO"
      },
      "execution_count": null,
      "outputs": []
    },
    {
      "cell_type": "code",
      "source": [
        "# Add code below\n",
        "\n",
        "# Summarise the counts of 'label' to see how many labels of each digit are present in terms of percentage"
      ],
      "metadata": {
        "id": "cve1z4rduZz4"
      },
      "execution_count": 10,
      "outputs": []
    },
    {
      "cell_type": "code",
      "source": [
        "# Data Preparation\n",
        "\n",
        "# Use StandardScaler to normalize df_x_train and df_x_test"
      ],
      "metadata": {
        "id": "DC1-U_RZxHL5"
      },
      "execution_count": 11,
      "outputs": []
    },
    {
      "cell_type": "markdown",
      "source": [
        "#Tabular Data\n",
        "\n",
        "Linear Regression Problem\n",
        "\n",
        "Car Price Prediction\n",
        "\n",
        "(3 code/ comment blocks to be completed)"
      ],
      "metadata": {
        "id": "o-g7UdXvzGKc"
      }
    },
    {
      "cell_type": "code",
      "source": [
        "# Load Data\n",
        "\n",
        "master = pd.read_csv(\"dataset2.csv\", encoding = \"ISO-8859-1\")"
      ],
      "metadata": {
        "id": "YwV_xQfty_68"
      },
      "execution_count": null,
      "outputs": []
    },
    {
      "cell_type": "code",
      "source": [
        "# check first five rows of dataframe\n",
        "master.head()"
      ],
      "metadata": {
        "id": "RC1opH5E0b1o"
      },
      "execution_count": null,
      "outputs": []
    },
    {
      "cell_type": "code",
      "source": [
        "# check some statistics (percentiles, standard deviation etc)\n",
        "master.describe()"
      ],
      "metadata": {
        "id": "w9_oBA2w0kcu"
      },
      "execution_count": null,
      "outputs": []
    },
    {
      "cell_type": "code",
      "source": [
        "# inspect the structure etc.\n",
        "print(master.info(), \"\\n\")\n",
        "print(master.shape)\n"
      ],
      "metadata": {
        "id": "tNtubL3g0uxp"
      },
      "execution_count": null,
      "outputs": []
    },
    {
      "cell_type": "code",
      "source": [
        "# missing values in master dataframe\n",
        "master.isnull().sum()"
      ],
      "metadata": {
        "id": "noMeifuA012A"
      },
      "execution_count": null,
      "outputs": []
    },
    {
      "cell_type": "code",
      "source": [
        "# Add code here\n",
        "\n",
        "# check column names"
      ],
      "metadata": {
        "id": "1CX8w0Lz09xn"
      },
      "execution_count": null,
      "outputs": []
    },
    {
      "cell_type": "code",
      "source": [
        "# Add code here\n",
        "# have a look at all the company names\n"
      ],
      "metadata": {
        "id": "0ThLQhuoC0Zq"
      },
      "execution_count": null,
      "outputs": []
    },
    {
      "cell_type": "markdown",
      "source": [
        "Very basic Data Cleaning"
      ],
      "metadata": {
        "id": "rTVkwUpO1Mr8"
      }
    },
    {
      "cell_type": "code",
      "source": [
        "# some company names are coming twice due to spelling mistakes\n",
        "# Let's correct spelling \n",
        "master=master.replace('maxda','mazda')\n",
        "master=master.replace('porcshce','porsche')\n",
        "master=master.replace('toyouta','toyota')\n",
        "master=master.replace('vokswagen','volkswagen')\n",
        "master=master.replace('vw','volkswagen')"
      ],
      "metadata": {
        "id": "grdlyvPq1O0W"
      },
      "execution_count": null,
      "outputs": []
    },
    {
      "cell_type": "code",
      "source": [
        "# Add code here\n",
        "# have a look at all the company names again"
      ],
      "metadata": {
        "id": "8cKDPWQAC5nk"
      },
      "execution_count": null,
      "outputs": []
    },
    {
      "cell_type": "code",
      "source": [
        "# check for duplicate rows\n",
        "master[\"is_duplicate\"]= master.duplicated()\n",
        "master.is_duplicate.unique()"
      ],
      "metadata": {
        "id": "sCakfGxx1Xhk"
      },
      "execution_count": null,
      "outputs": []
    },
    {
      "cell_type": "markdown",
      "source": [
        "# Tabular Data\n",
        "\n",
        "Classification Problem : Diabetes Prediction\n",
        "\n",
        "Target Variable : Outcome\n",
        "\n",
        "(7 code/comment blocks to be completed)"
      ],
      "metadata": {
        "id": "NzDeaXhw11yJ"
      }
    },
    {
      "cell_type": "code",
      "source": [
        "df = pd.read_csv(\"dataset3.csv\", encoding = \"ISO-8859-1\")\n",
        "df.head(-5)"
      ],
      "metadata": {
        "id": "89JqeBA615ME"
      },
      "execution_count": null,
      "outputs": []
    },
    {
      "cell_type": "code",
      "source": [
        "# Add code here\n",
        "\n",
        "# Check shape of the df dataframe"
      ],
      "metadata": {
        "id": "oGHP2JR34vLP"
      },
      "execution_count": null,
      "outputs": []
    },
    {
      "cell_type": "code",
      "source": [
        "# Add code here\n",
        "\n",
        "# Check the datatypes of columns in the dataframe"
      ],
      "metadata": {
        "id": "q1WeeuCE5PFL"
      },
      "execution_count": null,
      "outputs": []
    },
    {
      "cell_type": "code",
      "source": [
        "# Add code here\n",
        "\n",
        "# Find mean and standarad deviation of all numeric features in the dataframe"
      ],
      "metadata": {
        "id": "7Ppw2Gs35Ch0"
      },
      "execution_count": null,
      "outputs": []
    },
    {
      "cell_type": "code",
      "source": [
        "# Scatter plots to understand relationship  between variables and segregation of classes\n",
        "plt.figure(figsize=(20, 10))\n",
        "sns.pairplot(df)\n",
        "plt.show()"
      ],
      "metadata": {
        "id": "9iadxdDU5N1x"
      },
      "execution_count": null,
      "outputs": []
    },
    {
      "cell_type": "markdown",
      "source": [
        "A correlation heatmap is a heatmap that shows a 2D correlation matrix between two discrete dimensions, using colored cells to represent data from usually a monochromatic scale. The values of the first dimension appear as the rows of the table while of the second dimension as a column.\n",
        "\n",
        "Let's create Heatmap for the given dataset using the following code"
      ],
      "metadata": {
        "id": "6hfyWccEAJiK"
      }
    },
    {
      "cell_type": "code",
      "source": [
        "# Correlation matrix & Heatmap to understand dependence among independent variables and get a picture of Multicollinearity\n",
        "corr = df.corr()\n",
        "corr\n",
        "\n",
        "# Figure size\n",
        "plt.figure(figsize=(16,8))\n",
        "\n",
        "# Heatmap\n",
        "sns.heatmap(corr, cmap=\"YlGnBu\", annot=True)\n",
        "plt.show()"
      ],
      "metadata": {
        "id": "Q8QUp6NT5g-l"
      },
      "execution_count": null,
      "outputs": []
    },
    {
      "cell_type": "markdown",
      "source": [
        "T-distributed Stochastic Neighbor Embedding (t-SNE) is a nonlinear dimensionality reduction technique well-suited for embedding high-dimensional data for visualization in a low-dimensional space of two or three dimensions\n",
        "\n",
        "Let's check t-SNE scatterplot using the following code:"
      ],
      "metadata": {
        "id": "DJZEXb8M-7SC"
      }
    },
    {
      "cell_type": "code",
      "source": [
        "# tsne scatterplot\n",
        "\n",
        "from sklearn.manifold import TSNE\n",
        "model = TSNE(n_components=2, random_state=0,perplexity=50, n_iter=500)\n",
        "tsne_data = model.fit_transform(df)\n",
        "\n",
        "sns.scatterplot(tsne_data[:,0], tsne_data[:,1], hue = df['Outcome'], legend='full')"
      ],
      "metadata": {
        "id": "yM7LNKlZ5rta"
      },
      "execution_count": null,
      "outputs": []
    },
    {
      "cell_type": "code",
      "source": [
        "# What do you conclude/observe from the above plot? Answer in a comment below:\n",
        "\n",
        "#\n"
      ],
      "metadata": {
        "id": "dkMVzPRv577G"
      },
      "execution_count": null,
      "outputs": []
    },
    {
      "cell_type": "markdown",
      "source": [
        "Check the distribution of classes in Outcome"
      ],
      "metadata": {
        "id": "60B4VYhg6WaD"
      }
    },
    {
      "cell_type": "code",
      "source": [
        "# Add code here\n",
        "\n",
        "# Make a bar plot showing count of each class of the Target variable 'Outcome'"
      ],
      "metadata": {
        "id": "hy8uBwaW6Umn"
      },
      "execution_count": 13,
      "outputs": []
    },
    {
      "cell_type": "code",
      "source": [
        "# Add comment below\n",
        "\n",
        "# comment on the above plot"
      ],
      "metadata": {
        "id": "kRw5be1z_MQL"
      },
      "execution_count": null,
      "outputs": []
    },
    {
      "cell_type": "code",
      "source": [
        "# Add code here\n",
        "\n",
        "# Visualize distribution of any two predictor variables"
      ],
      "metadata": {
        "id": "6y0ggiVb6uNk"
      },
      "execution_count": null,
      "outputs": []
    },
    {
      "cell_type": "markdown",
      "source": [
        "# Time Series Data\n",
        "\n",
        "Household Power Consumption Prediction\n",
        "\n",
        "(6 code/ comment blocks to be added)"
      ],
      "metadata": {
        "id": "f8S2Efsx7IV4"
      }
    },
    {
      "cell_type": "code",
      "source": [
        "from statsmodels.graphics.tsaplots import plot_acf, plot_pacf\n",
        "from statsmodels.tsa.stattools import adfuller\n",
        "from statsmodels.tsa.seasonal import seasonal_decompose"
      ],
      "metadata": {
        "id": "SmbuJFTM7Kj4"
      },
      "execution_count": 1,
      "outputs": []
    },
    {
      "cell_type": "code",
      "source": [
        "# Load the data\n",
        "\n",
        "df_power = pd.read_csv(\"dataset4.csv\", encoding = \"ISO-8859-1\", parse_dates = ['Datetime'],infer_datetime_format = True,index_col = \"Datetime\")\n",
        "df_power.head()"
      ],
      "metadata": {
        "id": "TVqk7YL6-che"
      },
      "execution_count": null,
      "outputs": []
    },
    {
      "cell_type": "code",
      "source": [
        "# Add code here\n",
        "\n",
        "#Sort the dataframe according to date and time"
      ],
      "metadata": {
        "id": "HK3N4i7K-oYi"
      },
      "execution_count": null,
      "outputs": []
    },
    {
      "cell_type": "code",
      "source": [
        "# Add code here\n",
        "\n",
        "# Resample the hourly data to get data on a per week basis into 'df_weekly' dataframe and display first five rows of the 'df_weekly' dataframe"
      ],
      "metadata": {
        "id": "qKF37dxK-vuF"
      },
      "execution_count": 15,
      "outputs": []
    },
    {
      "cell_type": "code",
      "source": [
        "# Add code here\n",
        "\n",
        "#Sort the dataframe 'df_weekly' according to date and time"
      ],
      "metadata": {
        "id": "xB85m0oy-8rs"
      },
      "execution_count": null,
      "outputs": []
    },
    {
      "cell_type": "code",
      "source": [
        "#check the various trends or Decomposition of the time series\n",
        "\n",
        "df_check_trend = df_weekly\n",
        "decompose_data = seasonal_decompose(df_check_trend, model=\"additive\")\n",
        "decompose_data.plot()\n",
        "plt.show()"
      ],
      "metadata": {
        "id": "sOegBVMs_bap"
      },
      "execution_count": null,
      "outputs": []
    },
    {
      "cell_type": "code",
      "source": [
        "# Add comment below\n",
        "\n",
        "# Comment on the above plot"
      ],
      "metadata": {
        "id": "Kg9bk1CS_yy5"
      },
      "execution_count": 16,
      "outputs": []
    },
    {
      "cell_type": "code",
      "source": [
        "df_weekly[:200].plot()"
      ],
      "metadata": {
        "id": "adCY8Eni_7EF"
      },
      "execution_count": null,
      "outputs": []
    },
    {
      "cell_type": "code",
      "source": [
        "# Add code here\n",
        "\n",
        "# Use plot_acf and plot_pacf to plot acf and pcf both with lags=60 "
      ],
      "metadata": {
        "id": "qKVxAbX_AF6M"
      },
      "execution_count": null,
      "outputs": []
    },
    {
      "cell_type": "code",
      "source": [
        "# Add comment below\n",
        "\n",
        "# comment on the plots (Comment on cyclicity and autocorrelation patterns)"
      ],
      "metadata": {
        "id": "ipWb7ltwwxxj"
      },
      "execution_count": null,
      "outputs": []
    }
  ]
}